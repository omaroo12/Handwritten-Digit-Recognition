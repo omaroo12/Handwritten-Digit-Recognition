{
  "nbformat": 4,
  "nbformat_minor": 0,
  "metadata": {
    "colab": {
      "provenance": []
    },
    "kernelspec": {
      "name": "python3",
      "display_name": "Python 3"
    },
    "language_info": {
      "name": "python"
    }
  },
  "cells": [
    {
      "cell_type": "code",
      "execution_count": 25,
      "metadata": {
        "id": "d-sOINtcK-d5"
      },
      "outputs": [],
      "source": [
        "import keras\n",
        "from keras.datasets import mnist\n",
        "from keras.models import Sequential\n",
        "from keras.layers import Dense, Dropout, Flatten\n",
        "from keras.layers import Conv2D, MaxPooling2D\n",
        "from keras.optimizers import Adam\n"
      ]
    },
    {
      "cell_type": "code",
      "source": [
        "(X_train, y_train), (X_test, y_test) = mnist.load_data()\n",
        "print(X_train.shape, y_train.shape, X_test.shape, y_test.shape)"
      ],
      "metadata": {
        "colab": {
          "base_uri": "https://localhost:8080/"
        },
        "id": "r9N9WTjSLCTC",
        "outputId": "0002eced-d3a4-457d-9c71-be1316e56d95"
      },
      "execution_count": 26,
      "outputs": [
        {
          "output_type": "stream",
          "name": "stdout",
          "text": [
            "(60000, 28, 28) (60000,) (10000, 28, 28) (10000,)\n"
          ]
        }
      ]
    },
    {
      "cell_type": "code",
      "source": [
        "X_train = X_train.reshape(X_train.shape[0], 28, 28, 1).astype('float32') / 255\n",
        "X_test = X_test.reshape(X_test.shape[0], 28, 28, 1).astype('float32') / 255\n",
        "input_shape = (28, 28, 1)\n",
        "y_train = keras.utils.to_categorical(y_train, 10)\n",
        "y_test = keras.utils.to_categorical(y_test, 10)\n",
        "\n",
        "print(X_train.shape, y_train.shape, X_test.shape, y_test.shape)\n",
        "\n",
        "batchSize = 128\n",
        "numClasses = 10\n",
        "epochs = 15"
      ],
      "metadata": {
        "colab": {
          "base_uri": "https://localhost:8080/"
        },
        "id": "eXeH8qPKLH_g",
        "outputId": "0af51756-1760-4a2c-9124-aa336bc35c3a"
      },
      "execution_count": 28,
      "outputs": [
        {
          "output_type": "stream",
          "name": "stdout",
          "text": [
            "(60000, 28, 28, 1) (60000, 10) (10000, 28, 28, 1) (10000, 10)\n"
          ]
        }
      ]
    },
    {
      "cell_type": "code",
      "source": [
        "model = Sequential()\n",
        "model.add(Conv2D(32, kernel_size=(3, 3), activation='relu', input_shape=input_shape))\n",
        "model.add(Conv2D(64, (3, 3), activation='relu'))\n",
        "model.add(MaxPooling2D(pool_size=(2, 2)))\n",
        "model.add(Dropout(0.25))\n",
        "model.add(Flatten())\n",
        "model.add(Dense(128, activation='relu'))\n",
        "model.add(Dropout(0.5))  # Added Dropout layer\n",
        "model.add(Dense(numClasses, activation='softmax'))\n",
        "\n",
        "# Compile the model with Adam optimizer\n",
        "model.compile(loss=keras.losses.categorical_crossentropy, optimizer=Adam(), metrics=['accuracy'])\n",
        "\n",
        "# Train the model\n",
        "model.fit(X_train, y_train, batch_size=batchSize, epochs=epochs, verbose=1, validation_data=(X_test, y_test))\n",
        "\n",
        "# Evaluate the model\n",
        "score = model.evaluate(X_test, y_test, verbose=0)\n",
        "print('Test loss:', score[0])\n",
        "print('Test accuracy:', score[1])\n"
      ],
      "metadata": {
        "colab": {
          "base_uri": "https://localhost:8080/"
        },
        "id": "04btvWkILIab",
        "outputId": "86f66f6c-1619-415d-9aba-950838328062"
      },
      "execution_count": 29,
      "outputs": [
        {
          "output_type": "stream",
          "name": "stdout",
          "text": [
            "Epoch 1/15\n",
            "469/469 [==============================] - 175s 279ms/step - loss: 0.2481 - accuracy: 0.9247 - val_loss: 0.0536 - val_accuracy: 0.9816\n",
            "Epoch 2/15\n",
            "469/469 [==============================] - 135s 288ms/step - loss: 0.0861 - accuracy: 0.9740 - val_loss: 0.0357 - val_accuracy: 0.9880\n",
            "Epoch 3/15\n",
            "469/469 [==============================] - 133s 284ms/step - loss: 0.0641 - accuracy: 0.9803 - val_loss: 0.0335 - val_accuracy: 0.9897\n",
            "Epoch 4/15\n",
            "469/469 [==============================] - 129s 276ms/step - loss: 0.0532 - accuracy: 0.9838 - val_loss: 0.0297 - val_accuracy: 0.9907\n",
            "Epoch 5/15\n",
            "469/469 [==============================] - 129s 276ms/step - loss: 0.0449 - accuracy: 0.9859 - val_loss: 0.0301 - val_accuracy: 0.9914\n",
            "Epoch 6/15\n",
            "469/469 [==============================] - 133s 283ms/step - loss: 0.0389 - accuracy: 0.9874 - val_loss: 0.0282 - val_accuracy: 0.9911\n",
            "Epoch 7/15\n",
            "469/469 [==============================] - 128s 273ms/step - loss: 0.0322 - accuracy: 0.9899 - val_loss: 0.0285 - val_accuracy: 0.9908\n",
            "Epoch 8/15\n",
            "469/469 [==============================] - 138s 294ms/step - loss: 0.0320 - accuracy: 0.9897 - val_loss: 0.0251 - val_accuracy: 0.9924\n",
            "Epoch 9/15\n",
            "469/469 [==============================] - 128s 273ms/step - loss: 0.0283 - accuracy: 0.9908 - val_loss: 0.0278 - val_accuracy: 0.9922\n",
            "Epoch 10/15\n",
            "469/469 [==============================] - 128s 272ms/step - loss: 0.0242 - accuracy: 0.9919 - val_loss: 0.0244 - val_accuracy: 0.9930\n",
            "Epoch 11/15\n",
            "469/469 [==============================] - 128s 274ms/step - loss: 0.0252 - accuracy: 0.9919 - val_loss: 0.0277 - val_accuracy: 0.9925\n",
            "Epoch 12/15\n",
            "469/469 [==============================] - 127s 271ms/step - loss: 0.0217 - accuracy: 0.9927 - val_loss: 0.0266 - val_accuracy: 0.9927\n",
            "Epoch 13/15\n",
            "469/469 [==============================] - 133s 284ms/step - loss: 0.0203 - accuracy: 0.9932 - val_loss: 0.0278 - val_accuracy: 0.9925\n",
            "Epoch 14/15\n",
            "469/469 [==============================] - 128s 272ms/step - loss: 0.0193 - accuracy: 0.9935 - val_loss: 0.0271 - val_accuracy: 0.9919\n",
            "Epoch 15/15\n",
            "469/469 [==============================] - 129s 275ms/step - loss: 0.0193 - accuracy: 0.9936 - val_loss: 0.0268 - val_accuracy: 0.9924\n",
            "Test loss: 0.02679489366710186\n",
            "Test accuracy: 0.9923999905586243\n"
          ]
        }
      ]
    }
  ]
}